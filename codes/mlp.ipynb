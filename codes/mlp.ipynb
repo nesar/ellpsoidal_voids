{
 "cells": [
  {
   "cell_type": "code",
   "execution_count": null,
   "id": "04689692-7b3c-4f45-9c8b-53f1aee56843",
   "metadata": {},
   "outputs": [],
   "source": [
    "from sklearn.model_selection import train_test_split\n",
    "from sklearn.preprocessing import StandardScaler, MinMaxScaler\n",
    "from tensorflow.keras import Sequential\n",
    "from keras.models import Model\n",
    "from tensorflow.keras.layers import Dense, Conv1D, Activation, Dropout, Flatten, Input\n",
    "import tensorflow as tf\n",
    "from tensorflow.keras import backend as K\n",
    "tf.random.set_seed(3)\n",
    "import pandas as pd\n",
    "import numpy as np\n",
    "import matplotlib.pylab as plt\n",
    "\n",
    "# import tensorflow.compat.v1.keras.backend as K \n",
    "# tf.compat.v1.disable_eager_execution()"
   ]
  },
  {
   "cell_type": "code",
   "execution_count": null,
   "id": "511d2088-2fd4-4ee8-a981-78dd1d91f1f6",
   "metadata": {},
   "outputs": [],
   "source": [
    "def load_data(fileIn):\n",
    "    \n",
    "    allData = np.loadtxt(fileIn, skiprows=1)\n",
    "    # all_df = pd.DataFrame(allData)\n",
    "    # all_df.columns = allLabels\n",
    "    \n",
    "    cond = np.where(allData[:, -2] > 0)\n",
    "    allData = allData[cond]\n",
    "    # allData[:, -2] = np.log10(allData[:, -2])\n",
    "\n",
    "    X = allData[:, :4]\n",
    "    y = allData[:, 4:]\n",
    "    return X, y\n",
    "\n",
    "input_names = ['rx', 'ry', 'rz', 'dist']"
   ]
  },
  {
   "cell_type": "code",
   "execution_count": null,
   "id": "03474d5c-d2cc-4c35-b7c5-6e4a725e3dcd",
   "metadata": {},
   "outputs": [],
   "source": [
    "num_epochs = 1000\n",
    "batch_size = 256 #256\n",
    "learning_rate = 1e-3 #1e-4\n",
    "decay_rate = 0.01\n",
    "\n",
    "mode = 'train'"
   ]
  },
  {
   "cell_type": "code",
   "execution_count": null,
   "id": "358922be-bffd-4a5f-92c9-1a6c5d3538d1",
   "metadata": {},
   "outputs": [],
   "source": [
    "\n",
    "\n",
    "# load the dataset\n",
    "fileIn = '../data/DOE1.out'\n",
    "X, y = load_data(fileIn)\n",
    "\n",
    "# encode strings to integer\n",
    "#scaler = StandardScaler(with_mean=False)\n",
    "# scaler = StandardScaler()\n",
    "scaler = MinMaxScaler( feature_range=(0, 1) )\n",
    "y = scaler.fit_transform(y)\n",
    "\n",
    "# X_scaler = StandardScaler()\n",
    "X_scaler = MinMaxScaler( feature_range=(0, 1) )\n",
    "X = X_scaler.fit_transform(X)\n",
    "\n",
    "# split into train and test datasets\n",
    "X_train, X_test, y_train, y_test = train_test_split(X, y, test_size=0.1)\n",
    "print(X_train.shape, X_test.shape, y_train.shape, y_test.shape)\n",
    "\n",
    "# determine the number of input features\n",
    "n_features = X_train.shape[1]\n",
    "print(n_features)"
   ]
  },
  {
   "cell_type": "code",
   "execution_count": null,
   "id": "a370f6d6-0f8e-4900-8d73-035b44e86f41",
   "metadata": {},
   "outputs": [],
   "source": [
    "p_dropout = 0.01\n",
    "# define model\n",
    "\n",
    "model = Sequential()\n",
    "model.add(Dense(16, activation='relu', kernel_initializer='he_normal', input_shape=(n_features,)))\n",
    "model.add(Dense(32, activation='relu', kernel_initializer='he_normal'))\n",
    "model.add(Dense(32, activation='relu', kernel_initializer='he_normal'))\n",
    "model.add(Dropout(p_dropout))\n",
    "model.add(Dense(y.shape[1], activation='linear'))\n",
    "\n",
    "\n",
    "# inputs = Input(((n_features)))\n",
    "# x = Dense(16, activation=\"relu\", kernel_initializer='he_normal')(inputs)\n",
    "# x = Dense(32, activation=\"relu\", kernel_initializer='he_normal')(x)\n",
    "# x = Dense(128, activation=\"relu\", kernel_initializer='he_normal')(x)\n",
    "# x = Dropout(p_dropout)(x)\n",
    "# predictions = Dense(y.shape[1], activation='linear')(x)\n",
    "# model = Model(inputs=inputs, outputs=predictions)"
   ]
  },
  {
   "cell_type": "code",
   "execution_count": null,
   "id": "3439a09a-dfc9-4cbd-bd8c-7fb48fbfc21d",
   "metadata": {},
   "outputs": [],
   "source": [
    "# compile the model\n",
    "model.compile(optimizer='adam', loss='mse', metrics=['mean_squared_error'])\n",
    "K.set_value(model.optimizer.lr, learning_rate)\n",
    "K.set_value(model.optimizer.decay, decay_rate)\n",
    "model.summary()\n"
   ]
  },
  {
   "cell_type": "code",
   "execution_count": null,
   "id": "66ea639e-4cfc-43d5-9a54-93f8977c9df3",
   "metadata": {},
   "outputs": [],
   "source": [
    "\n",
    "if mode == 'train': \n",
    "    # fit the model\n",
    "    train_history = model.fit(X_train, y_train, epochs= num_epochs, batch_size=batch_size, verbose=0)\n",
    "    # evaluate the model\n",
    "    loss, acc = model.evaluate(X_test, y_test, verbose=1)\n",
    "    print('Test Accuracy: %.3f' % acc)\n",
    "    # save the model\n",
    "    tf.keras.models.save_model(model, '../model/mlp43', overwrite=True, include_optimizer=True, save_format=None, signatures=None, options=None)\n",
    "\n",
    "    \n",
    "if mode == 'train':\n",
    "    plt.figure(2111)\n",
    "    plt.plot(train_history.history['loss'], label = 'loss')\n",
    "    # plt.plot(train_history.history['val_loss'], label = 'val loss')\n",
    "    plt.legend()\n",
    "    plt.xlabel('epoch')\n",
    "    plt.ylabel('loss')\n",
    "    plt.show()"
   ]
  },
  {
   "cell_type": "code",
   "execution_count": null,
   "id": "480bc880-4b1f-4c91-ae12-f44b929628dd",
   "metadata": {},
   "outputs": [],
   "source": [
    "########################\n",
    "########################\n",
    "# load a trained model\n",
    "model = tf.keras.models.load_model('../model/mlp43')\n",
    "\n",
    "# make a prediction\n",
    "y_pred = model.predict(X_test)\n",
    "y_pred = scaler.inverse_transform(y_pred)\n",
    "y_test = scaler.inverse_transform(y_test)\n",
    "\n",
    "########################\n"
   ]
  },
  {
   "cell_type": "code",
   "execution_count": null,
   "id": "6a935bf5-59b4-439a-b8f3-dcb4bf23496d",
   "metadata": {},
   "outputs": [],
   "source": [
    "y_pred.shape, y_test.shape"
   ]
  },
  {
   "cell_type": "code",
   "execution_count": null,
   "id": "55f934cc-2d41-49ee-9160-6981b84ac990",
   "metadata": {},
   "outputs": [],
   "source": [
    "f, a = plt.subplots(1, 2, figsize=(11, 5))\n",
    "allLabels = ['rx', 'ry', 'rz', 'dist', 'Smax', 'Vol75']\n",
    "\n",
    "a[0].scatter(y_test[:, 0], y_pred[:, 0])\n",
    "a[0].title.set_text(allLabels[4])\n",
    "# a[0].set_xlim(0.2*np.min(y_test[:, 0]), 1.5*np.max(y_test[:, 0]))\n",
    "# a[0].set_ylim(0.2*np.min(y_test[:, 0]), 1.5*np.max(y_pred[:, 0]))\n",
    "a[0].set_xlabel('true', fontsize=20)\n",
    "a[0].set_ylabel('pred', fontsize=20)\n",
    "a[0].plot([0.9*np.min(y_test[:, 0]), 1.2*np.max(y_test[:, 0])], [0.9*np.min(y_test[:, 0]), 1.2*np.max(y_test[:, 0])], 'r')\n",
    "\n",
    "\n",
    "a[1].scatter(y_test[:, 1], y_pred[:, 1])\n",
    "a[1].title.set_text(allLabels[5])\n",
    "# a[1].set_xlim(0.2*np.min(y_test[:, 1]), 1.5*np.max(y_test[:, 1]))\n",
    "# a[1].set_ylim(0.2*np.min(y_test[:, 1]), 1.5*np.max(y_pred[:, 1]))\n",
    "a[1].set_xlabel('true', fontsize=20)\n",
    "a[1].set_ylabel('pred', fontsize=20)\n",
    "a[1].plot([0,3e-10], [0,3e-10], 'r')\n",
    "\n",
    "plt.savefig('../plots/mlp')\n",
    "plt.show()"
   ]
  },
  {
   "cell_type": "code",
   "execution_count": null,
   "id": "b1f31e84-5cf0-4337-92dc-dd90522d0664",
   "metadata": {},
   "outputs": [],
   "source": [
    "from tensorflow.python.keras.backend import eager_learning_phase_scope\n",
    "from tensorflow.keras import backend as K\n",
    "\n",
    "mc_samples = 100\n",
    "f = K.function([model.layers[0].input], [model.output])\n",
    "    \n",
    "# Run the function for the number of mc_samples with learning_phase enabled\n",
    "with eager_learning_phase_scope(value=1): # 0=test, 1=train\n",
    "    Yt_hat = np.array([f((X_test))[0] for _ in range(mc_samples)])\n",
    "    \n",
    "y_mean = np.mean(Yt_hat, axis=0)\n",
    "y_std = np.std(Yt_hat, axis=0)\n",
    "\n",
    "y_mean = scaler.inverse_transform(y_mean)\n",
    "y_std = scaler.inverse_transform(y_std)"
   ]
  },
  {
   "cell_type": "code",
   "execution_count": null,
   "id": "7941ea7e-a3c6-4083-adb8-7b1e3e5d07aa",
   "metadata": {},
   "outputs": [],
   "source": [
    "f, a = plt.subplots(1, 2, figsize=(11, 5))\n",
    "allLabels = ['rx', 'ry', 'rz', 'dist', 'Smax', 'Vol75']\n",
    "\n",
    "a[0].errorbar(y_test[:, 0], y_mean[:, 0], yerr = y_std[:, 0], fmt=\"o\")\n",
    "a[0].scatter(y_test[:, 0], y_pred[:, 0], marker='x', color='r')\n",
    "a[0].title.set_text(allLabels[4])\n",
    "# a[0].set_xlim(0.2*np.min(y_test[:, 0]), 1.5*np.max(y_test[:, 0]))\n",
    "# a[0].set_ylim(0.2*np.min(y_test[:, 0]), 1.5*np.max(y_pred[:, 0]))\n",
    "a[0].set_xlabel('true', fontsize=20)\n",
    "a[0].set_ylabel('pred', fontsize=20)\n",
    "a[0].plot([0.9*np.min(y_test[:, 0]), 1.2*np.max(y_test[:, 0])], [0.9*np.min(y_test[:, 0]), 1.2*np.max(y_test[:, 0])], 'r')\n",
    "\n",
    "\n",
    "a[1].errorbar(y_test[:, 1], y_mean[:, 1], yerr = y_std[:, 1], fmt=\"o\")\n",
    "a[1].scatter(y_test[:, 1], y_pred[:, 1], marker='x')\n",
    "a[1].title.set_text(allLabels[5])\n",
    "# a[1].set_xlim(0.2*np.min(y_test[:, 1]), 1.5*np.max(y_test[:, 1]))\n",
    "# a[1].set_ylim(0.2*np.min(y_test[:, 1]), 1.5*np.max(y_pred[:, 1]))\n",
    "a[1].set_xlabel('true', fontsize=20)\n",
    "a[1].set_ylabel('pred', fontsize=20)\n",
    "a[1].plot([0,3e-10], [0,3e-10], 'r')\n",
    "\n",
    "plt.savefig('../plots/mlp_drop')\n",
    "plt.show()"
   ]
  },
  {
   "cell_type": "code",
   "execution_count": null,
   "id": "4e67e161-a311-4a8a-98d6-4474c83089f1",
   "metadata": {},
   "outputs": [],
   "source": [
    "# shap.__version__, tf.__version__"
   ]
  },
  {
   "cell_type": "code",
   "execution_count": null,
   "id": "26889719-1979-4f95-9dcd-6908b3296f6f",
   "metadata": {},
   "outputs": [],
   "source": [
    "# import shap"
   ]
  },
  {
   "cell_type": "code",
   "execution_count": null,
   "id": "5c14a086-cb88-4b4f-a7a5-746be9b78b9d",
   "metadata": {},
   "outputs": [],
   "source": [
    "# background = X_train[np.random.choice(X_train.shape[0], 100, replace=False)]\n",
    "# # shap.explainers.deep.deep_tf.op_handlers[\"AddV2\"] = shap.explainers.deep.deep_tf.passthrough\n",
    "\n",
    "# explainer = shap.DeepExplainer( (model.layers[0].input, model.layers[-1].output), background )\n",
    "\n",
    "# shap_values = explainer.shap_values(X_test[:3]) # <-- HERE !\n",
    "\n",
    "# # print the JS visualization code to the notebook\n",
    "# shap.initjs()\n",
    "# # shap.force_plot(explainer.expected_value[0], shap_values[0][0], feature_names=X_train.columns)"
   ]
  },
  {
   "cell_type": "code",
   "execution_count": null,
   "id": "6bbd756d-c328-4eeb-a39e-ee36f942e614",
   "metadata": {},
   "outputs": [],
   "source": [
    "# explainer = shap.DeepExplainer( model, background )\n",
    "# shap_values = explainer.shap_values(X_test[:3])"
   ]
  },
  {
   "cell_type": "code",
   "execution_count": null,
   "id": "21c2f696-88c1-44ae-a7f4-64a29dfa3b41",
   "metadata": {},
   "outputs": [],
   "source": [
    "# X_test.shape"
   ]
  },
  {
   "cell_type": "code",
   "execution_count": null,
   "id": "310c25ec-7477-4412-b857-bb3b8e48c114",
   "metadata": {},
   "outputs": [],
   "source": [
    "# import shap\n",
    "\n",
    "# # select a set of background examples to take an expectation over\n",
    "# background = X_train[np.random.choice(X_train.shape[0], 100, replace=False)]\n",
    "\n",
    "# # explain predictions of the model on three images\n",
    "# # e = shap.DeepExplainer(model, background)\n",
    "# e = shap.DeepExplainer( (model.layers[0].input, model.layers[-1].output), background)\n",
    "# # ...or pass tensors directly\n",
    "# # e = shap.DeepExplainer((model.layers[0].input, model.layers[-1].output), background)\n",
    "# shap_values = e.shap_values(X_test[1:5])"
   ]
  },
  {
   "cell_type": "code",
   "execution_count": null,
   "id": "2b82252e-8f08-4689-9e78-554d6a703b5f",
   "metadata": {},
   "outputs": [],
   "source": [
    "from alibi.explainers import KernelShap\n",
    "from alibi.explainers import IntegratedGradients\n",
    "import shap\n",
    "\n",
    "shap.initjs()\n",
    "\n",
    "\n",
    "predictor = model.predict\n",
    "# explainer = SomeExplainer(predictor), **kwargs)"
   ]
  },
  {
   "cell_type": "code",
   "execution_count": null,
   "id": "bed04092-12bf-4e6c-9f50-7eea58170f29",
   "metadata": {},
   "outputs": [],
   "source": [
    "input_names = ['rx', 'ry', 'rz', 'dist']\n",
    "target_names = ['Smax', 'Vol75']\n",
    "\n",
    "# Initialize IntegratedGradients instance\n",
    "n_steps = 50\n",
    "method = \"gausslegendre\"\n",
    "ig  = IntegratedGradients(model, n_steps=n_steps, method=method)\n",
    "\n",
    "# Calculate attributions for the first 10 images in the test set\n",
    "nb_samples = 100\n",
    "X_test_sample = X_test[:nb_samples]\n",
    "predictions = model(X_test_sample).numpy().argmax(axis=1)\n",
    "explanation = ig.explain(X_test_sample, baselines=None, target=predictions)\n",
    "\n",
    "# Metadata from the explanation object\n",
    "explanation.meta\n",
    "\n",
    "# Data fields from the explanation object\n",
    "print(explanation.data.keys())\n",
    "\n",
    "# Get attributions values from the explanation object\n",
    "attrs = explanation.attributions[0]\n",
    "      \n",
    "plt.plot(attrs, 'o')\n",
    "      \n",
    "      \n",
    "image_id = 2\n",
    "attr = attrs[image_id]\n",
    "attr_pos = attr.clip(0, 1)\n",
    "attr_neg = attr.clip(-1, 0)\n",
    "      \n",
    "      \n",
    "print(attr_pos, attr_neg)"
   ]
  },
  {
   "cell_type": "code",
   "execution_count": null,
   "id": "027a57ff-7174-4656-bd4d-e8bedbf75f3d",
   "metadata": {},
   "outputs": [],
   "source": [
    "ex = shap.KernelExplainer( predictor, X_train, features = input_names)\n",
    "shap_values = ex.shap_values(X_test[0:nb_samples, :])\n",
    "# shap.force_plot(ex.expected_value, shap_values[0], X_test[0:10,:])"
   ]
  },
  {
   "cell_type": "code",
   "execution_count": null,
   "id": "c9bebe48-3e24-4088-a0ad-354aed5ebd60",
   "metadata": {},
   "outputs": [],
   "source": [
    "out_id = 0\n",
    "target_id = 18\n",
    "shap.force_plot(ex.expected_value[out_id], shap_values[out_id][4], feature_names = input_names, out_names = target_names[out_id])"
   ]
  },
  {
   "cell_type": "code",
   "execution_count": null,
   "id": "ba2f0413-29c8-436e-a4b7-14e50e91226a",
   "metadata": {},
   "outputs": [],
   "source": [
    "out_id = 1\n",
    "target_id = 18\n",
    "shap.force_plot(ex.expected_value[out_id], shap_values[out_id][4], feature_names = input_names, out_names = target_names[out_id])"
   ]
  },
  {
   "cell_type": "code",
   "execution_count": null,
   "id": "572baa8e-8361-4067-865f-fb9756e03733",
   "metadata": {},
   "outputs": [],
   "source": [
    "out_id = 0\n",
    "target_id = 35\n",
    "shap.force_plot(ex.expected_value[out_id], shap_values[out_id][4], feature_names = input_names, out_names = target_names[out_id])"
   ]
  },
  {
   "cell_type": "code",
   "execution_count": null,
   "id": "0fcf6cf4-c85c-4713-bb50-b88980489b56",
   "metadata": {},
   "outputs": [],
   "source": [
    "out_id = 1\n",
    "target_id = 35\n",
    "shap.force_plot(ex.expected_value[out_id], shap_values[out_id][4], feature_names = input_names, out_names = target_names[out_id])"
   ]
  },
  {
   "cell_type": "code",
   "execution_count": null,
   "id": "c182ddde-9c1d-4a8d-ae64-edc6341879bb",
   "metadata": {},
   "outputs": [],
   "source": [
    "out_id = 0\n",
    "shap.force_plot(ex.expected_value[out_id], shap_values[out_id], feature_names = input_names, out_names = target_names[out_id])"
   ]
  },
  {
   "cell_type": "code",
   "execution_count": null,
   "id": "a04f579a-e932-4f67-87be-a68516c2d87a",
   "metadata": {},
   "outputs": [],
   "source": [
    "out_id = 1\n",
    "shap.force_plot(ex.expected_value[out_id], shap_values[out_id], feature_names = input_names, out_names = target_names[out_id])"
   ]
  },
  {
   "cell_type": "code",
   "execution_count": null,
   "id": "8df2b402-bb3f-4ba2-b067-d698d92a3458",
   "metadata": {},
   "outputs": [],
   "source": [
    "# np.array(shap_values).shape"
   ]
  },
  {
   "cell_type": "code",
   "execution_count": null,
   "id": "b2326966-8ae8-4c9d-b8ef-ac743ea74571",
   "metadata": {},
   "outputs": [],
   "source": [
    "# shap.force_plot(ex.expected_value[1], shap_values[1][44], feature_names = input_names)"
   ]
  },
  {
   "cell_type": "code",
   "execution_count": null,
   "id": "71368247-8531-45dc-900f-2a93ea490120",
   "metadata": {},
   "outputs": [],
   "source": [
    "shap_values[0].shape, X_test.shape, ex.expected_value.shape, np.array(shap_values).shape"
   ]
  },
  {
   "cell_type": "code",
   "execution_count": null,
   "id": "51a2c6c7-3a14-4068-94e3-831a8565c8f4",
   "metadata": {},
   "outputs": [],
   "source": [
    "explainer = shap.KernelExplainer(predictor, X_train, features = input_names, out_names = target_names)\n",
    "shap_valuesKE = explainer.shap_values(X_test)"
   ]
  },
  {
   "cell_type": "code",
   "execution_count": null,
   "id": "0a37d90e-3232-4058-afec-1bf6c7d64632",
   "metadata": {},
   "outputs": [],
   "source": [
    "shap.summary_plot(shap_valuesKE, X_test, feature_names = input_names, class_names=target_names)"
   ]
  },
  {
   "cell_type": "code",
   "execution_count": null,
   "id": "e50f1284-8cec-4020-bdff-8576ce56f8a2",
   "metadata": {},
   "outputs": [],
   "source": [
    "shap.summary_plot(shap_valuesKE[0], X_test, feature_names = input_names, plot_type='violin')\n",
    "shap.summary_plot(shap_valuesKE[1], X_test, feature_names = input_names, plot_type='violin')"
   ]
  },
  {
   "cell_type": "code",
   "execution_count": null,
   "id": "1192b0f1-f75b-4c53-ab2d-18c8774fd645",
   "metadata": {},
   "outputs": [],
   "source": [
    "shap.summary_plot(shap_valuesKE[0], X_test, feature_names = input_names, plot_type='dot')\n",
    "shap.summary_plot(shap_valuesKE[1], X_test, feature_names = input_names, plot_type='dot')"
   ]
  },
  {
   "cell_type": "code",
   "execution_count": null,
   "id": "29e1a471-17ee-47a0-b79f-d84fc534bac6",
   "metadata": {},
   "outputs": [],
   "source": [
    "shap.dependence_plot(0, shap_valuesKE[0], X_test, feature_names = input_names)\n",
    "shap.dependence_plot(1, shap_valuesKE[0], X_test, feature_names = input_names)\n",
    "shap.dependence_plot(2, shap_valuesKE[0], X_test, feature_names = input_names)\n",
    "shap.dependence_plot(3, shap_valuesKE[0], X_test, feature_names = input_names)"
   ]
  },
  {
   "cell_type": "code",
   "execution_count": null,
   "id": "981050a5-7f94-4f2b-9458-c90b5579d0dc",
   "metadata": {},
   "outputs": [],
   "source": [
    "shap.dependence_plot(0, shap_valuesKE[1], X_test, feature_names = input_names)\n",
    "shap.dependence_plot(1, shap_valuesKE[1], X_test, feature_names = input_names)\n",
    "shap.dependence_plot(2, shap_valuesKE[1], X_test, feature_names = input_names)\n",
    "shap.dependence_plot(3, shap_valuesKE[1], X_test, feature_names = input_names)"
   ]
  },
  {
   "cell_type": "code",
   "execution_count": null,
   "id": "b9355f55-23d8-4546-a917-d87be9b9d938",
   "metadata": {},
   "outputs": [],
   "source": [
    "# shap.plots.heatmap(shap_values)"
   ]
  },
  {
   "cell_type": "code",
   "execution_count": null,
   "id": "4023208c-ac15-4c9b-b6c6-1342bee8abd8",
   "metadata": {},
   "outputs": [],
   "source": [
    "# shap.force_plot(ex.expected_value[1], shap_values[0], feature_names = input_names)"
   ]
  },
  {
   "cell_type": "code",
   "execution_count": null,
   "id": "c73b99c9-8d55-4287-9293-f7b9ed6e0b7a",
   "metadata": {},
   "outputs": [],
   "source": [
    "# shap.force_plot(ex.expected_value[1], shap_values[1], feature_names = input_names)"
   ]
  },
  {
   "cell_type": "code",
   "execution_count": null,
   "id": "8dc02b2a-c434-4b86-af7e-b7a3de5dec97",
   "metadata": {},
   "outputs": [],
   "source": [
    "# shap.force_plot(ex.expected_value[1], shap_values[1][32], feature_names = input_names)"
   ]
  },
  {
   "cell_type": "code",
   "execution_count": null,
   "id": "1378c72e-77b9-4d8f-8f7c-c9cfada2c552",
   "metadata": {},
   "outputs": [],
   "source": [
    "# shap_values = explainer(X_test)\n",
    "# shap.partial_dependence_plot(3, shap_values[1], X_test, feature_names = input_names)\n",
    "# # shap.plots.waterfall(shap_values[sample_ind], max_display=14)"
   ]
  },
  {
   "cell_type": "code",
   "execution_count": null,
   "id": "27c00563-75ab-4e92-94c9-8fefa85f54da",
   "metadata": {},
   "outputs": [],
   "source": [
    "input_names"
   ]
  },
  {
   "cell_type": "code",
   "execution_count": null,
   "id": "8c022ccb-3d06-4102-afc5-8beb4a4832ad",
   "metadata": {},
   "outputs": [],
   "source": [
    "# Global vs local explain\n",
    "# https://docs.seldon.io/projects/alibi/en/latest/overview/high_level.html#global-feature-attribution\n",
    "# https://docs.seldon.io/projects/alibi/en/latest/methods/ale_figures.html?highlight=plot_ale#ALE-Figures\n",
    "\n",
    "\n",
    "from alibi.explainers import ALE\n",
    "from alibi.explainers import plot_ale\n",
    "\n",
    "input_names = ['rx', 'ry', 'rz', 'dist']\n",
    "target_names = ['Smax', 'Vol75']\n",
    "\n",
    "ale = ALE(predictor, feature_names=input_names, target_names= target_names)\n",
    "exp = ale.explain(X_train)\n",
    "# plot_ale(exp, features=['rx'], line_kw={'label': 'Probability of \"good\" class'})\n",
    "# plot_ale(exp, features=['ry'], line_kw={'label': 'Probability of \"good\" class'})\n",
    "# plot_ale(exp, features=['rz'], line_kw={'label': 'Probability of \"good\" class'})\n",
    "# plot_ale(exp, features=['dist'], line_kw={'label': 'Probability of \"good\" class'})\n",
    "\n",
    "fig, ax = plt.subplots(1, 4, figsize=(14, 3.5), sharey=True)\n",
    "ax[0].set_xlabel(input_names[0], fontsize=18)\n",
    "ax[1].set_xlabel(input_names[1], fontsize=18)\n",
    "ax[2].set_xlabel(input_names[2], fontsize=18)\n",
    "ax[3].set_xlabel(input_names[3], fontsize=18)\n",
    "ax[0].set_ylabel(ALE, fontsize=18)\n",
    "\n",
    "plot_ale(exp, features=input_names, ax = ax, sharey=True, constant=False)\n",
    "\n",
    "ax[1].get_yaxis().set_visible(False)\n",
    "ax[2].get_yaxis().set_visible(False)\n",
    "ax[3].get_yaxis().set_visible(False)\n",
    "\n",
    "# ax[0].legend(fontsize=18)"
   ]
  },
  {
   "cell_type": "code",
   "execution_count": null,
   "id": "c9c17a78-141d-49fe-9fb9-0056bd5c4f04",
   "metadata": {},
   "outputs": [],
   "source": [
    "np.array(exp.data['ale_values']).shape, X_train.shape"
   ]
  },
  {
   "cell_type": "code",
   "execution_count": null,
   "id": "6675635b-c4ad-4a7c-9187-0afeec97dce8",
   "metadata": {},
   "outputs": [],
   "source": [
    "input_names"
   ]
  },
  {
   "cell_type": "code",
   "execution_count": null,
   "id": "8faa051d-4a1f-4dd5-a1f1-d927cfc53478",
   "metadata": {},
   "outputs": [],
   "source": []
  },
  {
   "cell_type": "code",
   "execution_count": null,
   "id": "28704f72-64f9-4416-8606-fe2386261aa8",
   "metadata": {},
   "outputs": [],
   "source": [
    "# fig, ax = plt.subplots(1, 2, figsize=(12, 4))\n",
    "# plot_ale(exp, features=[0], ax=ax[0]);\n",
    "# plot_ale(exp, features=[1], ax=ax[1]);"
   ]
  },
  {
   "cell_type": "code",
   "execution_count": null,
   "id": "627dede2-e6ee-400c-bfde-9ce552168dbb",
   "metadata": {},
   "outputs": [],
   "source": [
    "# # compute the SHAP values for the linear model\n",
    "# explainer = shap.Explainer(predictor, X_train)\n",
    "# shap_values = explainer(X)\n",
    "\n",
    "# # make a standard partial dependence plot\n",
    "# sample_ind = 18\n",
    "# shap.partial_dependence_plot(\n",
    "#     \"dist\", predictor, X_train, model_expected_value=True,\n",
    "#     feature_expected_value=True, ice=False,\n",
    "#     shap_values=shap_values[sample_ind:sample_ind+1,:]\n",
    "# )"
   ]
  },
  {
   "cell_type": "code",
   "execution_count": null,
   "id": "4aa1a93f-d500-4a6a-ac3c-e25e3f27b06e",
   "metadata": {},
   "outputs": [],
   "source": [
    "# shap.plots.scatter(shap_values[:,\"dist\"])\n"
   ]
  },
  {
   "cell_type": "code",
   "execution_count": null,
   "id": "a5f4b50c-19a7-4e35-880e-27aecf1611d7",
   "metadata": {},
   "outputs": [],
   "source": [
    "# # the waterfall_plot shows how we get from explainer.expected_value to model.predict(X)[sample_ind]\n",
    "# shap.plots.waterfall(shap_values[sample_ind], max_display=14)"
   ]
  },
  {
   "cell_type": "code",
   "execution_count": null,
   "id": "c106717c-2655-474c-b101-087611e68171",
   "metadata": {},
   "outputs": [],
   "source": []
  }
 ],
 "metadata": {
  "kernelspec": {
   "display_name": "Python 3 (ipykernel)",
   "language": "python",
   "name": "python3"
  },
  "language_info": {
   "codemirror_mode": {
    "name": "ipython",
    "version": 3
   },
   "file_extension": ".py",
   "mimetype": "text/x-python",
   "name": "python",
   "nbconvert_exporter": "python",
   "pygments_lexer": "ipython3",
   "version": "3.9.7"
  }
 },
 "nbformat": 4,
 "nbformat_minor": 5
}
