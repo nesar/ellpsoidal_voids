{
 "cells": [
  {
   "cell_type": "code",
   "execution_count": 1,
   "id": "76d5a020-4468-4f9e-a703-0458f88e5c68",
   "metadata": {},
   "outputs": [
    {
     "name": "stdout",
     "output_type": "stream",
     "text": [
      "Num GPUs: 8\n"
     ]
    }
   ],
   "source": [
    "# Activate TF2 behavior:\n",
    "from tensorflow.python import tf2\n",
    "if not tf2.enabled():\n",
    "  import tensorflow.compat.v2 as tf\n",
    "  tf.enable_v2_behavior() \n",
    "  assert tf2.enabled()\n",
    "\n",
    "import numpy as np\n",
    "import tensorflow as tf\n",
    "\n",
    "# Set seeds\n",
    "np.random.seed(10)\n",
    "tf.random.set_seed(10)\n",
    "\n",
    "from tensorflow.keras.layers import Input, Dense, LSTM, Lambda, Dropout, Flatten, Reshape, Conv2DTranspose\n",
    "from tensorflow.keras.layers import Conv2D, UpSampling2D, MaxPooling2D, Conv3D, MaxPool3D, UpSampling3D, Conv3DTranspose\n",
    "\n",
    "from tensorflow.keras import optimizers, models, regularizers\n",
    "from tensorflow.keras import backend as K\n",
    "from tensorflow.keras.callbacks import ModelCheckpoint, EarlyStopping\n",
    "from tensorflow.keras.models import load_model, Sequential, Model\n",
    "from tensorflow.keras.regularizers import l1\n",
    "from tensorflow.keras.utils import plot_model\n",
    "from keras.losses import mse, binary_crossentropy\n",
    "\n",
    "from sklearn.pipeline import Pipeline\n",
    "from sklearn.preprocessing import StandardScaler, MinMaxScaler\n",
    "\n",
    "\n",
    "# import matplotlib\n",
    "# matplotlib.use('Agg')\n",
    "\n",
    "import matplotlib.pyplot as plt\n",
    "\n",
    "mode = 'train'   \n",
    "# mode = 'test'\n",
    "\n",
    "physical_devices = tf.config.list_physical_devices('GPU')\n",
    "print(\"Num GPUs:\", len(physical_devices))\n",
    "\n",
    "import umap\n",
    "import time\n",
    "time1 = time.time()"
   ]
  },
  {
   "cell_type": "code",
   "execution_count": 2,
   "id": "48e163f0-dc39-43fb-8bb6-edda4ac0a05e",
   "metadata": {},
   "outputs": [],
   "source": [
    "# import numpy as np; np.__version__"
   ]
  },
  {
   "cell_type": "code",
   "execution_count": 3,
   "id": "65f5ff38-e119-44a0-a1a1-45fd243613cc",
   "metadata": {},
   "outputs": [],
   "source": [
    "######## folder is where parameter matrix is stored ######\n",
    "\n",
    "def shuffle(X, y):\n",
    "    shuffleOrder = np.arange(X.shape[0])\n",
    "    np.random.shuffle(shuffleOrder)\n",
    "    X = X[shuffleOrder]\n",
    "    y = y[shuffleOrder]\n",
    "    return X, y, shuffleOrder"
   ]
  },
  {
   "cell_type": "code",
   "execution_count": 4,
   "id": "b935dbc0-2e27-48f7-ab2e-3fd6527d22be",
   "metadata": {},
   "outputs": [],
   "source": [
    "num_epochs = 20\n",
    "batch_size = 2 #4 #256\n",
    "learning_rate = 1e-4 #1e-4\n",
    "decay_rate = 0.0\n",
    "\n",
    "latent_dim = 8 #16 ###\n",
    "epsilon_mean = 0.1\n",
    "epsilon_std = 1e-4 #1e-4\n",
    "\n",
    "beta = 0.0 # recon_loss + beta*kl_loss \n",
    "\n",
    "nGrid= 128\n",
    "nSamples = 1000\n",
    "\n",
    "train_test_split= 0.90\n",
    "from sklearn.utils import shuffle"
   ]
  },
  {
   "cell_type": "code",
   "execution_count": 5,
   "id": "d8bcd95e-fff6-4029-b13e-063f5d9e55bf",
   "metadata": {},
   "outputs": [],
   "source": [
    "\n",
    "def load_data(nSamples):\n",
    "    \n",
    "    dirIn = '/lcrc/project/cosmo_ai/nramachandra/Projects/PRISM/ellipsoidal_void/data/'\n",
    "\n",
    "    temp_data = np.load(dirIn + 'random_ellipsoids_3d.npy')[:nSamples]\n",
    "    radii_data = np.load(dirIn + 'random_ellipsoids_3d_radii.npy')[:nSamples]\n",
    "\n",
    "\n",
    "    split = np.int(train_test_split*temp_data.shape[0])\n",
    "\n",
    "    train_data = temp_data[0:split, :, :, :].astype('float32')\n",
    "    train_target = radii_data[0:split, :].astype('float32')\n",
    "    test_data = temp_data[split:, :, :, :].astype('float32')\n",
    "    test_target = radii_data[split:, :].astype('float32')\n",
    "\n",
    "    return (train_data[:, :nGrid, :nGrid, :nGrid], train_target), (test_data[:, :nGrid, :nGrid, :nGrid], test_target)\n",
    "            \n"
   ]
  },
  {
   "cell_type": "code",
   "execution_count": 6,
   "id": "d9933988-60c3-468e-a333-a4419f45bb3a",
   "metadata": {},
   "outputs": [
    {
     "name": "stderr",
     "output_type": "stream",
     "text": [
      "/tmp/ipykernel_1916114/2413570872.py:9: DeprecationWarning: `np.int` is a deprecated alias for the builtin `int`. To silence this warning, use `int` by itself. Doing this will not modify any behavior and is safe. When replacing `np.int`, you may wish to use e.g. `np.int64` or `np.int32` to specify the precision. If you wish to review your current use, check the release note link for additional information.\n",
      "Deprecated in NumPy 1.20; for more details and guidance: https://numpy.org/devdocs/release/1.20.0-notes.html#deprecations\n",
      "  split = np.int(train_test_split*temp_data.shape[0])\n"
     ]
    },
    {
     "name": "stdout",
     "output_type": "stream",
     "text": [
      "(900, 128, 128, 128)\n",
      "(100, 128, 128, 128)\n"
     ]
    }
   ],
   "source": [
    "(train_images, train_radii), (test_images, test_radii) = load_data(nSamples)\n",
    "\n",
    "print(train_images.shape)\n",
    "print(test_images.shape)\n",
    "\n",
    "# # RESCALING IMAGES\n",
    "# #print(train_images[0,:,:,:,0])\n",
    "# tmin = train_images.min()\n",
    "# tmax = train_images.max()\n",
    "# print(tmin, tmax)\n",
    "# train_images = (train_images - tmin) / (tmax - tmin) # Normalize the images to [-1, 1]\n",
    "# test_images = (test_images - tmin) / (tmax - tmin)\n",
    "# print(train_images.min(), train_images.max())   "
   ]
  },
  {
   "cell_type": "code",
   "execution_count": 7,
   "id": "c9455507-7bf3-4f6d-a80a-f7b74d85ccef",
   "metadata": {},
   "outputs": [
    {
     "name": "stdout",
     "output_type": "stream",
     "text": [
      "old min-max: 0.0 1.0\n",
      "new min-max: 0.0 1.0\n"
     ]
    }
   ],
   "source": [
    "loaddata = 'average' ## 'average' or 'log' for different normalization\n",
    "\n",
    "\n",
    "if loaddata == 'average':\n",
    "# RESCALING IMAGES\n",
    "#print(train_images[0,:,:,:,0])\n",
    "    tmin = train_images.min()\n",
    "    tmax = train_images.max()\n",
    "    print('old min-max:', tmin, tmax)\n",
    "    train_images = (train_images - tmin) / (tmax - tmin) # Normalize the images to [-1, 1]\n",
    "    test_images = (test_images - tmin) / (tmax - tmin)\n",
    "    print('new min-max:', train_images.min(), train_images.max())\n",
    "\n",
    "    shape0 = train_images.shape[0]\n",
    "    swe_train_data = train_images.reshape(shape0, nGrid, nGrid, nGrid, 1)\n",
    "\n",
    "if loaddata == 'log':\n",
    "    shape0 = train_images.shape[0]\n",
    "    train_images = train_images + data_offset\n",
    "    swe_train_data = np.log10(train_images)\n",
    "    swe_train_data = swe_train_data.reshape(shape0, nGrid, nGrid, nGrid)\n",
    "    preproc = Pipeline([('stdscaler', StandardScaler())])\n",
    "    #swe_data_shuffle, indx_shuffle, shuffle_order  = shuffle(swe_data, temp_indx)\n",
    "    swe_data_shuffle = shuffle(swe_train_data)\n",
    "\n",
    "    swe_train_data = preproc.fit_transform(swe_data_shuffle.reshape(-1,1))\n",
    "    swe_train_data = swe_train_data.reshape(shape0, nGrid, nGrid, nGrid, 1)\n",
    "    #swe_train_data = np.copy(swe_train)\n",
    "    print('swe_data max is :')\n",
    "    print(np.max(swe_train_data))\n",
    "    print('swe_data min is :')\n",
    "    print(np.min(swe_train_data))\n",
    "    print('over')"
   ]
  },
  {
   "cell_type": "code",
   "execution_count": 8,
   "id": "bd85eacb-5284-4f60-9027-67a24d0baec7",
   "metadata": {},
   "outputs": [],
   "source": [
    "@tf.function\n",
    "def custom_loss(encoder_inputs,ae_outputs,z_log_var,z_mean ):\n",
    "    reconstruction_loss = mse(K.flatten(encoder_inputs), K.flatten(ae_outputs))\n",
    "    kl_loss = 1 + z_log_var - K.square(z_mean) - K.exp(z_log_var)\n",
    "    kl_loss = K.sum(kl_loss) #, axis=-1)   ### replace sum with mean\n",
    "    kl_loss *= -0.5\n",
    "    vae_loss = K.mean(reconstruction_loss + beta*kl_loss)\n",
    "    tf.print(\"kl_loss= \")\n",
    "    tf.print(kl_loss)\n",
    "    tf.print(\"   recons_loss= \")\n",
    "    tf.print(reconstruction_loss)\n",
    "\n",
    "    return vae_loss\n",
    "\n",
    "@tf.function\n",
    "def recons_loss(encoder_inputs,ae_outputs):\n",
    "    reconstruction_loss = mse(K.flatten(encoder_inputs), K.flatten(ae_outputs))\n",
    "    return reconstruction_loss\n",
    "\n",
    "@tf.function\n",
    "def kl_loss(y_true, y_pred):\n",
    "    kl_loss = 1 + z_log_var - K.square(z_mean) - K.exp(z_log_var)\n",
    "    kl_loss = K.sum(kl_loss, axis=-1)\n",
    "    kl_loss *= -0.5\n",
    "    return kl_loss        \n",
    "\n",
    "@tf.function\n",
    "def sampling(args):\n",
    "    z_mean, z_log_var = args\n",
    "    batch = K.shape(z_mean)[0]\n",
    "    dim = K.int_shape(z_mean)[1]\n",
    "#    epsilon = K.random_normal(shape=(batch,dim), mean=epsilon_mean, stddev=epsilon_std)\n",
    "#    return z_mean + K.exp(0.5*z_log_var) * epsilon\n",
    "    epsilon = K.random_normal(shape=(batch,dim))\n",
    "    return z_mean + tf.exp(0.5 * z_log_var) * epsilon"
   ]
  },
  {
   "cell_type": "code",
   "execution_count": 9,
   "id": "5de1da31-b4f6-4b07-a411-7ba940da453f",
   "metadata": {},
   "outputs": [
    {
     "data": {
      "text/plain": [
       "\"\\n###### Encoder ###################\\nencoder_inputs = Input(shape=(nGrid, nGrid, nGrid,1),name='Field')\\nx= Conv3D(128, kernel_size= (3,3,3), activation='relu', padding='same')(encoder_inputs)\\n# x= Conv3D(64, kernel_size= (3,3,3), activation='relu', padding='same')(x)   ###### added back\\nx= Conv3D(64, kernel_size= (3,3,3), activation='relu', padding='same')(x)   ###### added back\\nx= Conv3D(64, kernel_size= (3,3,3), activation='relu', padding='same')(x)   ###### added back\\nx=MaxPool3D(pool_size=(2,2,2), padding='same')(x)\\n\\nx= Conv3D(64,kernel_size=(3,3,3), activation='relu', padding='same')(x) ##### changed here\\nx= MaxPool3D(pool_size=(2,2,2),padding='same')(x)\\n\\nx= Flatten()(x)\\nz_mean= Dense(latent_dim, name='z_mean')(x)\\nz_log_var= Dense(latent_dim, name='z_log_var')(x)\\n\\nz = Lambda(sampling, output_shape=(latent_dim,), name='z')((z_mean, z_log_var))\\n\\n# instantiate encoder model\\n#encoder = Model(encoder_inputs, z_mean, name='encoder')  ### common AE\\nencoder = Model(encoder_inputs, ( (z_mean, z_log_var, z) ), name='encoder')\\nencoder.summary()\\n\""
      ]
     },
     "execution_count": 9,
     "metadata": {},
     "output_type": "execute_result"
    }
   ],
   "source": [
    "'''\n",
    "###### Encoder ###################\n",
    "encoder_inputs = Input(shape=(nGrid, nGrid, nGrid,1),name='Field')\n",
    "x= Conv3D(128, kernel_size= (3,3,3), activation='relu', padding='same')(encoder_inputs)\n",
    "# x= Conv3D(64, kernel_size= (3,3,3), activation='relu', padding='same')(x)   ###### added back\n",
    "x= Conv3D(64, kernel_size= (3,3,3), activation='relu', padding='same')(x)   ###### added back\n",
    "x= Conv3D(64, kernel_size= (3,3,3), activation='relu', padding='same')(x)   ###### added back\n",
    "x=MaxPool3D(pool_size=(2,2,2), padding='same')(x)\n",
    "\n",
    "x= Conv3D(64,kernel_size=(3,3,3), activation='relu', padding='same')(x) ##### changed here\n",
    "x= MaxPool3D(pool_size=(2,2,2),padding='same')(x)\n",
    "\n",
    "x= Flatten()(x)\n",
    "z_mean= Dense(latent_dim, name='z_mean')(x)\n",
    "z_log_var= Dense(latent_dim, name='z_log_var')(x)\n",
    "\n",
    "z = Lambda(sampling, output_shape=(latent_dim,), name='z')((z_mean, z_log_var))\n",
    "\n",
    "# instantiate encoder model\n",
    "#encoder = Model(encoder_inputs, z_mean, name='encoder')  ### common AE\n",
    "encoder = Model(encoder_inputs, ( (z_mean, z_log_var, z) ), name='encoder')\n",
    "encoder.summary()\n",
    "'''"
   ]
  },
  {
   "cell_type": "code",
   "execution_count": null,
   "id": "0a495832-2da8-4a11-9bc6-94242e904e9f",
   "metadata": {},
   "outputs": [],
   "source": []
  },
  {
   "cell_type": "code",
   "execution_count": 10,
   "id": "6366036a-3a4c-440d-9d63-228095616167",
   "metadata": {},
   "outputs": [
    {
     "data": {
      "text/plain": [
       "\"\\n###### Decoder ################\\nlatent_inputs = Input(shape=(latent_dim,), name='z_sampling')\\nx= Dense(512)(latent_inputs)\\n\\nx= Reshape((8,8,8,1))(x)\\n\\nx= Conv3D(128, kernel_size=(3,3,3), activation='relu',padding='same')(x)  #### changed here\\nx= UpSampling3D(size=(2,2,2))(x)\\n\\nx= Conv3D(64, kernel_size=(3,3,3), activation='relu',padding='same')(x)\\nx= UpSampling3D(size=(2,2,2))(x)\\n\\nx= Conv3D(64, kernel_size=(3,3,3), activation='relu',padding='same')(x)\\nx= UpSampling3D(size=(2,2,2))(x)\\n\\n#x= Conv3D(128, kernel_size=(3,3,3), activation='relu', padding='same')(x)\\n#x= Conv3D(64, kernel_size=(3,3,3), activation='relu', padding='same')(x)\\nx= Conv3D(64, kernel_size=(3,3,3), activation='relu',padding='same')(x)\\nx= UpSampling3D(size=(2,2,2))(x)\\n\\n#x= Conv3D(128, kernel_size=(3,3,3), activation='relu',padding='same')(x)\\n#x= Conv3D(64, kernel_size=(3,3,3), activation='relu',padding='same')(x)\\n\\n\\n##x= Conv3D(64, kernel_size=(3,3,3), activation='relu',padding='same')(x) (0305 commented out)\\n\\n\\n##x= Conv3D(256, kernel_size=(1,1,1), activation='relu', padding='same')(x)   #### changed here ####\\n#x= Conv3D(512, kernel_size=(2,2,2), activation='relu', padding='same')(x)\\n\\n# x= UpSampling3D(size=(2,2,2))(x)\\n\\ndecoded = Conv3D(1,kernel_size=(3,3,3), activation=None, padding='same')(x)\\ndecoder = Model(inputs=latent_inputs, outputs=decoded)\\ndecoder.summary()\\n\""
      ]
     },
     "execution_count": 10,
     "metadata": {},
     "output_type": "execute_result"
    }
   ],
   "source": [
    "'''\n",
    "###### Decoder ################\n",
    "latent_inputs = Input(shape=(latent_dim,), name='z_sampling')\n",
    "x= Dense(512)(latent_inputs)\n",
    "\n",
    "x= Reshape((8,8,8,1))(x)\n",
    "\n",
    "x= Conv3D(128, kernel_size=(3,3,3), activation='relu',padding='same')(x)  #### changed here\n",
    "x= UpSampling3D(size=(2,2,2))(x)\n",
    "\n",
    "x= Conv3D(64, kernel_size=(3,3,3), activation='relu',padding='same')(x)\n",
    "x= UpSampling3D(size=(2,2,2))(x)\n",
    "\n",
    "x= Conv3D(64, kernel_size=(3,3,3), activation='relu',padding='same')(x)\n",
    "x= UpSampling3D(size=(2,2,2))(x)\n",
    "\n",
    "#x= Conv3D(128, kernel_size=(3,3,3), activation='relu', padding='same')(x)\n",
    "#x= Conv3D(64, kernel_size=(3,3,3), activation='relu', padding='same')(x)\n",
    "x= Conv3D(64, kernel_size=(3,3,3), activation='relu',padding='same')(x)\n",
    "x= UpSampling3D(size=(2,2,2))(x)\n",
    "\n",
    "#x= Conv3D(128, kernel_size=(3,3,3), activation='relu',padding='same')(x)\n",
    "#x= Conv3D(64, kernel_size=(3,3,3), activation='relu',padding='same')(x)\n",
    "\n",
    "\n",
    "##x= Conv3D(64, kernel_size=(3,3,3), activation='relu',padding='same')(x) (0305 commented out)\n",
    "\n",
    "\n",
    "##x= Conv3D(256, kernel_size=(1,1,1), activation='relu', padding='same')(x)   #### changed here ####\n",
    "#x= Conv3D(512, kernel_size=(2,2,2), activation='relu', padding='same')(x)\n",
    "\n",
    "# x= UpSampling3D(size=(2,2,2))(x)\n",
    "\n",
    "decoded = Conv3D(1,kernel_size=(3,3,3), activation=None, padding='same')(x)\n",
    "decoder = Model(inputs=latent_inputs, outputs=decoded)\n",
    "decoder.summary()\n",
    "'''"
   ]
  },
  {
   "cell_type": "code",
   "execution_count": 11,
   "id": "9951e68c-e57f-4ece-9d14-7166fb472463",
   "metadata": {},
   "outputs": [
    {
     "name": "stdout",
     "output_type": "stream",
     "text": [
      "Model: \"encoder\"\n",
      "__________________________________________________________________________________________________\n",
      " Layer (type)                   Output Shape         Param #     Connected to                     \n",
      "==================================================================================================\n",
      " Field (InputLayer)             [(None, 128, 128, 1  0           []                               \n",
      "                                28, 1)]                                                           \n",
      "                                                                                                  \n",
      " conv3d (Conv3D)                (None, 128, 128, 12  3584        ['Field[0][0]']                  \n",
      "                                8, 128)                                                           \n",
      "                                                                                                  \n",
      " conv3d_1 (Conv3D)              (None, 32, 32, 32,   221248      ['conv3d[0][0]']                 \n",
      "                                64)                                                               \n",
      "                                                                                                  \n",
      " conv3d_2 (Conv3D)              (None, 16, 16, 16,   110656      ['conv3d_1[0][0]']               \n",
      "                                64)                                                               \n",
      "                                                                                                  \n",
      " conv3d_3 (Conv3D)              (None, 8, 8, 8, 64)  110656      ['conv3d_2[0][0]']               \n",
      "                                                                                                  \n",
      " flatten (Flatten)              (None, 32768)        0           ['conv3d_3[0][0]']               \n",
      "                                                                                                  \n",
      " dense (Dense)                  (None, 64)           2097216     ['flatten[0][0]']                \n",
      "                                                                                                  \n",
      " dense_1 (Dense)                (None, 32)           2080        ['dense[0][0]']                  \n",
      "                                                                                                  \n",
      " z_mean (Dense)                 (None, 8)            264         ['dense_1[0][0]']                \n",
      "                                                                                                  \n",
      " z_log_var (Dense)              (None, 8)            264         ['dense_1[0][0]']                \n",
      "                                                                                                  \n",
      " z (Lambda)                     (None, 8)            0           ['z_mean[0][0]',                 \n",
      "                                                                  'z_log_var[0][0]']              \n",
      "                                                                                                  \n",
      "==================================================================================================\n",
      "Total params: 2,545,968\n",
      "Trainable params: 2,545,968\n",
      "Non-trainable params: 0\n",
      "__________________________________________________________________________________________________\n"
     ]
    }
   ],
   "source": [
    "###### Encoder ###################\n",
    "encoder_inputs = Input(shape=(nGrid, nGrid, nGrid, 1),name='Field')\n",
    "x= Conv3D(128, kernel_size=3, activation='relu', padding='same')(encoder_inputs)\n",
    "x= Conv3D(64, kernel_size=3, strides=4, activation='relu', padding='same')(x)   ###### added back\n",
    "x= Conv3D(64, kernel_size=3, strides=2, activation='relu', padding='same')(x)   ###### added back\n",
    "x= Conv3D(64, kernel_size=3, strides=2, activation='relu', padding='same')(x)   ###### added back\n",
    "\n",
    "x= Flatten()(x)\n",
    "x= Dense(64)(x)   ###### added new\n",
    "# x= Dense(126)(x)   ###### added new\n",
    "x= Dense(32)(x)   ###### added new\n",
    "\n",
    "z_mean= Dense(latent_dim, name='z_mean')(x)\n",
    "z_log_var= Dense(latent_dim, name='z_log_var')(x)\n",
    "\n",
    "z = Lambda(sampling, output_shape=(latent_dim,), name='z')((z_mean, z_log_var))\n",
    "\n",
    "# instantiate encoder model\n",
    "# encoder = Model(encoder_inputs, z_mean, name='encoder')  ### Vanilla AE\n",
    "encoder = Model(encoder_inputs, ( (z_mean, z_log_var, z) ), name='encoder') ### VAE\n",
    "encoder.summary()"
   ]
  },
  {
   "cell_type": "code",
   "execution_count": 12,
   "id": "beae94d1-5c84-4653-a3a7-f532ccfbd629",
   "metadata": {},
   "outputs": [
    {
     "name": "stdout",
     "output_type": "stream",
     "text": [
      "Model: \"model\"\n",
      "_________________________________________________________________\n",
      " Layer (type)                Output Shape              Param #   \n",
      "=================================================================\n",
      " z_sampling (InputLayer)     [(None, 8)]               0         \n",
      "                                                                 \n",
      " dense_2 (Dense)             (None, 32)                288       \n",
      "                                                                 \n",
      " dense_3 (Dense)             (None, 64)                2112      \n",
      "                                                                 \n",
      " reshape (Reshape)           (None, 4, 4, 4, 1)        0         \n",
      "                                                                 \n",
      " conv3d_transpose (Conv3DTra  (None, 8, 8, 8, 64)      1792      \n",
      " nspose)                                                         \n",
      "                                                                 \n",
      " conv3d_transpose_1 (Conv3DT  (None, 16, 16, 16, 64)   110656    \n",
      " ranspose)                                                       \n",
      "                                                                 \n",
      " conv3d_transpose_2 (Conv3DT  (None, 64, 64, 64, 64)   110656    \n",
      " ranspose)                                                       \n",
      "                                                                 \n",
      " conv3d_transpose_3 (Conv3DT  (None, 128, 128, 128, 12  221312   \n",
      " ranspose)                   8)                                  \n",
      "                                                                 \n",
      " conv3d_transpose_4 (Conv3DT  (None, 128, 128, 128, 1)  3457     \n",
      " ranspose)                                                       \n",
      "                                                                 \n",
      "=================================================================\n",
      "Total params: 450,273\n",
      "Trainable params: 450,273\n",
      "Non-trainable params: 0\n",
      "_________________________________________________________________\n"
     ]
    }
   ],
   "source": [
    "###### Decoder ################\n",
    "latent_inputs = Input(shape=(latent_dim,), name='z_sampling')\n",
    "\n",
    "x= Dense(32)(latent_inputs)\n",
    "x= Dense(64)(x)\n",
    "x= Reshape((4,4,4,1))(x)\n",
    "\n",
    "x = Conv3DTranspose(filters=64, kernel_size=3, strides=2, padding='same', activation='relu')(x)\n",
    "x = Conv3DTranspose(filters=64, kernel_size=3, strides=2, padding='same', activation='relu')(x)\n",
    "x = Conv3DTranspose(filters=64, kernel_size=3, strides=4, padding='same', activation='relu')(x)\n",
    "x = Conv3DTranspose(filters=128, kernel_size=3, strides=2, padding='same', activation='relu')(x)\n",
    "\n",
    "decoded = Conv3DTranspose(1, kernel_size=3, activation=None, padding='same')(x)\n",
    "decoder = Model(inputs=latent_inputs, outputs=decoded)\n",
    "decoder.summary()"
   ]
  },
  {
   "cell_type": "code",
   "execution_count": 13,
   "id": "3f98ac97-ca61-4e52-b0f1-1082d873dde1",
   "metadata": {},
   "outputs": [
    {
     "name": "stdout",
     "output_type": "stream",
     "text": [
      "ae_outputs shape is\n",
      "(None, 128, 128, 128, 1)\n"
     ]
    }
   ],
   "source": [
    "# ae_outputs = decoder(encoder(encoder_inputs))   #### for Vanilla AE\n",
    "ae_outputs = decoder(encoder(encoder_inputs)[2])  #### for VAE\n",
    "print(\"ae_outputs shape is\")\n",
    "print(ae_outputs.shape)\n",
    "model = Model(inputs=encoder_inputs, outputs=ae_outputs, name='VAE')"
   ]
  },
  {
   "cell_type": "code",
   "execution_count": 14,
   "id": "00e41efa-b18d-497b-8122-552754b59716",
   "metadata": {},
   "outputs": [
    {
     "name": "stdout",
     "output_type": "stream",
     "text": [
      "Model: \"VAE\"\n",
      "__________________________________________________________________________________________________\n",
      " Layer (type)                   Output Shape         Param #     Connected to                     \n",
      "==================================================================================================\n",
      " Field (InputLayer)             [(None, 128, 128, 1  0           []                               \n",
      "                                28, 1)]                                                           \n",
      "                                                                                                  \n",
      " encoder (Functional)           ((None, 8),          2545968     ['Field[0][0]']                  \n",
      "                                 (None, 8),                                                       \n",
      "                                 (None, 8))                                                       \n",
      "                                                                                                  \n",
      " model (Functional)             (None, 128, 128, 12  450273      ['encoder[0][2]']                \n",
      "                                8, 1)                                                             \n",
      "                                                                                                  \n",
      " conv3d (Conv3D)                (None, 128, 128, 12  3584        ['Field[0][0]']                  \n",
      "                                8, 128)                                                           \n",
      "                                                                                                  \n",
      " conv3d_1 (Conv3D)              (None, 32, 32, 32,   221248      ['conv3d[0][0]']                 \n",
      "                                64)                                                               \n",
      "                                                                                                  \n",
      " conv3d_2 (Conv3D)              (None, 16, 16, 16,   110656      ['conv3d_1[0][0]']               \n",
      "                                64)                                                               \n",
      "                                                                                                  \n",
      " conv3d_3 (Conv3D)              (None, 8, 8, 8, 64)  110656      ['conv3d_2[0][0]']               \n",
      "                                                                                                  \n",
      " flatten (Flatten)              (None, 32768)        0           ['conv3d_3[0][0]']               \n",
      "                                                                                                  \n",
      " dense (Dense)                  (None, 64)           2097216     ['flatten[0][0]']                \n",
      "                                                                                                  \n",
      " dense_1 (Dense)                (None, 32)           2080        ['dense[0][0]']                  \n",
      "                                                                                                  \n",
      " z_log_var (Dense)              (None, 8)            264         ['dense_1[0][0]']                \n",
      "                                                                                                  \n",
      " z_mean (Dense)                 (None, 8)            264         ['dense_1[0][0]']                \n",
      "                                                                                                  \n",
      " tf.__operators__.add (TFOpLamb  (None, 8)           0           ['z_log_var[0][0]']              \n",
      " da)                                                                                              \n",
      "                                                                                                  \n",
      " tf.math.square (TFOpLambda)    (None, 8)            0           ['z_mean[0][0]']                 \n",
      "                                                                                                  \n",
      " tf.math.subtract (TFOpLambda)  (None, 8)            0           ['tf.__operators__.add[0][0]',   \n",
      "                                                                  'tf.math.square[0][0]']         \n",
      "                                                                                                  \n",
      " tf.math.exp (TFOpLambda)       (None, 8)            0           ['z_log_var[0][0]']              \n",
      "                                                                                                  \n",
      " tf.reshape_1 (TFOpLambda)      (None,)              0           ['model[0][0]']                  \n",
      "                                                                                                  \n",
      " tf.reshape (TFOpLambda)        (None,)              0           ['Field[0][0]']                  \n",
      "                                                                                                  \n",
      " tf.math.subtract_1 (TFOpLambda  (None, 8)           0           ['tf.math.subtract[0][0]',       \n",
      " )                                                                'tf.math.exp[0][0]']            \n",
      "                                                                                                  \n",
      " tf.convert_to_tensor (TFOpLamb  (None,)             0           ['tf.reshape_1[0][0]']           \n",
      " da)                                                                                              \n",
      "                                                                                                  \n",
      " tf.cast (TFOpLambda)           (None,)              0           ['tf.reshape[0][0]']             \n",
      "                                                                                                  \n",
      " tf.math.reduce_sum (TFOpLambda  ()                  0           ['tf.math.subtract_1[0][0]']     \n",
      " )                                                                                                \n",
      "                                                                                                  \n",
      " tf.math.squared_difference (TF  (None,)             0           ['tf.convert_to_tensor[0][0]',   \n",
      " OpLambda)                                                        'tf.cast[0][0]']                \n",
      "                                                                                                  \n",
      " tf.math.multiply (TFOpLambda)  ()                   0           ['tf.math.reduce_sum[0][0]']     \n",
      "                                                                                                  \n",
      " tf.math.reduce_mean (TFOpLambd  ()                  0           ['tf.math.squared_difference[0][0\n",
      " a)                                                              ]']                              \n",
      "                                                                                                  \n",
      " tf.math.multiply_1 (TFOpLambda  ()                  0           ['tf.math.multiply[0][0]']       \n",
      " )                                                                                                \n",
      "                                                                                                  \n",
      " tf.__operators__.add_1 (TFOpLa  ()                  0           ['tf.math.reduce_mean[0][0]',    \n",
      " mbda)                                                            'tf.math.multiply_1[0][0]']     \n",
      "                                                                                                  \n",
      " add_loss (AddLoss)             ()                   0           ['tf.__operators__.add_1[0][0]'] \n",
      "                                                                                                  \n",
      "==================================================================================================\n",
      "Total params: 2,996,241\n",
      "Trainable params: 2,996,241\n",
      "Non-trainable params: 0\n",
      "__________________________________________________________________________________________________\n"
     ]
    }
   ],
   "source": [
    "reconstruction_loss = mse(K.flatten(encoder_inputs), K.flatten(ae_outputs))\n",
    "\n",
    "kl_loss = 1 + z_log_var - K.square(z_mean) - K.exp(z_log_var)\n",
    "kl_loss = K.sum(kl_loss) #sum(kl_loss) #axis=-1)\n",
    "kl_loss *= -0.5\n",
    "#vae_loss = reconstruction_loss\n",
    "\n",
    "#vae_loss = K.mean(reconstruction_loss + beta*kl_loss)\n",
    "vae_loss = reconstruction_loss + beta * kl_loss\n",
    "model.add_loss(vae_loss)\n",
    "\n",
    "#model.add_loss(custom_loss(encoder_inputs,ae_outputs,z_log_var,z_mean))  ## --doens't work\n",
    "model.compile(optimizer='adam') #, loss = recons_loss, metrics =kl_loss)\n",
    "K.set_value(model.optimizer.lr, learning_rate)\n",
    "K.set_value(model.optimizer.decay, decay_rate)\n",
    "model.summary()"
   ]
  },
  {
   "cell_type": "code",
   "execution_count": null,
   "id": "3dd55fb7-67b6-4aed-a45c-5c31c54f4877",
   "metadata": {},
   "outputs": [
    {
     "name": "stdout",
     "output_type": "stream",
     "text": [
      "Epoch 1/20\n"
     ]
    }
   ],
   "source": [
    "folder = '../model/'\n",
    "weights_filepath = folder + 'best_weights_vae3d.h5'\n",
    "if mode == 'train':\n",
    "    checkpoint = ModelCheckpoint(weights_filepath, monitor='val_loss', verbose=1, save_best_only=True, mode='min',save_weights_only=True)\n",
    "    earlystopping = EarlyStopping(monitor='val_loss', min_delta=0, patience=50, verbose=0, mode='auto', baseline=None, restore_best_weights=False)\n",
    "    callbacks_list = (checkpoint,earlystopping)\n",
    "    #train_history = model.fit(x=swe_train_data, y=swe_train_data, epochs=num_epochs, batch_size=batch_size, callbacks=callbacks_list)#, validation_split=0.1)\n",
    "    \n",
    "    train_history = model.fit(swe_train_data, epochs=num_epochs, batch_size=batch_size, callbacks=callbacks_list, validation_split=0.1)\n",
    "    # train_history = model.fit(train_images, epochs=num_epochs, batch_size=batch_size, callbacks=callbacks_list, validation_split=0.1)\n",
    "    \n",
    "    #train_history = model.fit( (train_images, train_images) , batch_size=10 , epochs=10 , verbose=1 , validation_data = (test_images, test_images)) \n",
    "    model.save_weights(folder + 'vae_cnn')\n",
    "    print('Training complete')\n",
    " "
   ]
  },
  {
   "cell_type": "code",
   "execution_count": null,
   "id": "fccd39bc-cc24-4f5d-ae74-bc2e5af0afa7",
   "metadata": {},
   "outputs": [],
   "source": [
    "if mode == 'train':\n",
    "    plt.figure(2111)\n",
    "    plt.plot(train_history.history['loss'], label = 'loss')\n",
    "    plt.plot(train_history.history['val_loss'], label = 'val loss')\n",
    "    plt.legend()\n",
    "    plt.xlabel('epoch')\n",
    "    plt.ylabel('loss')\n",
    "    plt.show()"
   ]
  },
  {
   "cell_type": "code",
   "execution_count": null,
   "id": "5b663e8b-faac-4759-8ae6-892e8b3410e5",
   "metadata": {},
   "outputs": [],
   "source": [
    "# trained_model = Model(inputs=encoder_inputs, outputs=ae_outputs, name='VAE')\n"
   ]
  },
  {
   "cell_type": "code",
   "execution_count": null,
   "id": "c4f64c5e-fd0e-4b4e-9f15-651edc78b7aa",
   "metadata": {},
   "outputs": [],
   "source": [
    "# trained_model = Model(inputs=encoder_inputs, outputs=ae_outputs, name='VAE')\n",
    "model.load_weights(weights_filepath)\n",
    "model.summary()\n",
    "# model.layers[-2]"
   ]
  },
  {
   "cell_type": "code",
   "execution_count": null,
   "id": "6aae7016-06f1-4b23-9c02-870bae552001",
   "metadata": {},
   "outputs": [],
   "source": [
    "model.layers[-17].output"
   ]
  },
  {
   "cell_type": "code",
   "execution_count": null,
   "id": "57477ed0-1165-4944-af6d-aa9e8f2386e6",
   "metadata": {},
   "outputs": [],
   "source": [
    "trained_encoder = Model(model.input, model.layers[-17].output)\n",
    "\n",
    "decoder_input = Input(shape=(latent_dim,))\n",
    "trained_decoder = Model(decoder_input, model.layers[-1](decoder_input))\n",
    "\n",
    "trained_encoder.summary()\n",
    "trained_decoder.summary()"
   ]
  },
  {
   "cell_type": "code",
   "execution_count": null,
   "id": "e6abdb0b-862d-4524-8867-193bcd770bd8",
   "metadata": {},
   "outputs": [],
   "source": [
    "# test_img.shape, trained_encoder.predict(test_img).shape # want (6, 16)"
   ]
  },
  {
   "cell_type": "code",
   "execution_count": null,
   "id": "bec7a84a-7e87-4da1-878a-f275206f3bd4",
   "metadata": {},
   "outputs": [],
   "source": [
    "num_test = 6\n",
    "test_img = test_images[0:num_test]\n",
    "pred_img = model.predict(test_img)\n",
    "test_r2 = test_radii[0:num_test, 0]**2 + test_radii[0:num_test, 1]**2 + test_radii[0:num_test, 2]**2\n",
    "print(test_img.shape, pred_img.shape, test_r2.shape)"
   ]
  },
  {
   "cell_type": "code",
   "execution_count": null,
   "id": "cc2ccf6a-5876-49f1-8f8b-9a68e87c221c",
   "metadata": {},
   "outputs": [],
   "source": [
    "\n",
    "f, a = plt.subplots(test_img.shape[0], 6, figsize = (18, 4*test_img.shape[0]), sharey=True, sharex=True)\n",
    "\n",
    "for img_ind in range(test_img.shape[0]):\n",
    "    \n",
    "    a[img_ind, 0].imshow(test_img[img_ind, 64, :, :], cmap='gray_r')\n",
    "    a[img_ind, 1].imshow(pred_img[img_ind, 64, :, :], cmap='gray_r')\n",
    "    \n",
    "    a[img_ind, 2].imshow(test_img[img_ind, :, 64, :], cmap='gray_r')\n",
    "    a[img_ind, 3].imshow(pred_img[img_ind, :, 64, :], cmap='gray_r')\n",
    "    \n",
    "    \n",
    "    a[img_ind, 4].imshow(test_img[img_ind, :, :, 64], cmap='gray_r')\n",
    "    a[img_ind, 5].imshow(pred_img[img_ind, :, :, 64], cmap='gray_r')\n",
    "\n",
    "a[0, 0].set_title('TEST-X')\n",
    "a[0, 1].set_title('PRED-X')\n",
    "\n",
    "a[0, 2].set_title('TEST-Y')\n",
    "a[0, 3].set_title('PRED-Y')\n",
    "\n",
    "a[0, 4].set_title('TEST-Z')\n",
    "a[0, 5].set_title('PRED-Z')\n",
    "\n",
    "plt.show()"
   ]
  },
  {
   "cell_type": "code",
   "execution_count": null,
   "id": "e8e7fc19-78a4-438a-a7d2-5c15db50cc33",
   "metadata": {},
   "outputs": [],
   "source": [
    "test_encoded = encoder.predict(test_img)[2]\n",
    "print(test_img.shape, np.array(test_encoded).shape, test_r2.shape)"
   ]
  },
  {
   "cell_type": "code",
   "execution_count": null,
   "id": "49964418-ac0a-438d-8988-1122bc40aefa",
   "metadata": {},
   "outputs": [],
   "source": [
    "reducer = umap.UMAP(random_state=42)\n",
    "reducer.fit(test_encoded)\n",
    "\n",
    "embedding = reducer.transform(test_encoded)\n",
    "# Verify that the result of calling transform is\n",
    "# idenitical to accessing the embedding_ attribute\n",
    "assert(np.all(embedding == reducer.embedding_))\n",
    "embedding.shape\n",
    "\n",
    "\n",
    "plt.figure( figsize = (8, 7))\n",
    "plt.scatter(embedding[:, 0], embedding[:, 1], c= np.log10(test_r2), cmap='Spectral', s=70)\n",
    "plt.gca().set_aspect('equal', 'datalim')\n",
    "# plt.colorbar(boundaries=np.arange(3)-0.5).set_ticks(np.arange(2))\n",
    "cbar = plt.colorbar()\n",
    "cbar.set_label(r'$R^2$', rotation=270, fontsize = 20, labelpad=20)\n",
    "plt.title('UMAP projection of the encoded space -- \\n likely wrong since weights are not loaded', fontsize=15);"
   ]
  },
  {
   "cell_type": "code",
   "execution_count": null,
   "id": "eda66b37-4de4-4598-997c-1ee77a06622d",
   "metadata": {},
   "outputs": [],
   "source": [
    "num_test = 400\n",
    "\n",
    "test_encoded_arr = np.zeros(shape=(latent_dim, num_test))\n",
    "for test_ind in range(num_test):\n",
    "    test_img = train_images[test_ind]\n",
    "    test_encoded = trained_encoder.predict(test_img[np.newaxis])\n",
    "    test_encoded_arr[:, test_ind] = test_encoded\n",
    "                            \n",
    "test_r2 = train_radii[0:num_test, 0]**2 + train_radii[0:num_test, 1]**2 + train_radii[0:num_test, 2]**2\n",
    "\n",
    "\n",
    "reducer = umap.UMAP(random_state=42)\n",
    "reducer.fit(test_encoded_arr.T)\n",
    "\n",
    "embedding = reducer.transform(test_encoded_arr.T)\n",
    "# Verify that the result of calling transform is\n",
    "# idenitical to accessing the embedding_ attribute\n",
    "assert(np.all(embedding == reducer.embedding_))\n",
    "embedding.shape\n",
    "\n",
    "\n",
    "plt.figure( figsize = (8, 7))\n",
    "plt.scatter(embedding[:, 0], embedding[:, 1], c= np.log10(test_r2), cmap='Spectral', s=70)\n",
    "plt.gca().set_aspect('equal', 'datalim')\n",
    "# plt.colorbar(boundaries=np.arange(3)-0.5).set_ticks(np.arange(2))\n",
    "cbar = plt.colorbar()\n",
    "cbar.set_label(r'$R^2$', rotation=270, fontsize = 20, labelpad=20)\n",
    "plt.title('UMAP projection of the encoded space \\n loaded weights', fontsize=15);"
   ]
  },
  {
   "cell_type": "raw",
   "id": "799de945-e4f6-4bce-ba23-0646ae322df1",
   "metadata": {},
   "source": []
  }
 ],
 "metadata": {
  "kernelspec": {
   "display_name": "Python 3 (ipykernel)",
   "language": "python",
   "name": "python3"
  },
  "language_info": {
   "codemirror_mode": {
    "name": "ipython",
    "version": 3
   },
   "file_extension": ".py",
   "mimetype": "text/x-python",
   "name": "python",
   "nbconvert_exporter": "python",
   "pygments_lexer": "ipython3",
   "version": "3.9.7"
  }
 },
 "nbformat": 4,
 "nbformat_minor": 5
}
